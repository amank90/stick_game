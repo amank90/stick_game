{
 "cells": [
  {
   "cell_type": "code",
   "execution_count": 1,
   "metadata": {},
   "outputs": [],
   "source": [
    "from collections import defaultdict, Counter\n",
    "import urllib.request\n",
    "import numpy as np\n",
    "import matplotlib.pyplot as plt\n",
    "%matplotlib inline"
   ]
  },
  {
   "cell_type": "code",
   "execution_count": 51,
   "metadata": {},
   "outputs": [],
   "source": [
    "class stickbot:\n",
    "    \"\"\"\n",
    "    n : No. of sticks\n",
    "    \"\"\"\n",
    "    def __init__(self,n):\n",
    "        self.n_sticks = n\n",
    "    \n",
    "    def fit(self,N):\n",
    "        \"\"\"Train the bot to play a stick game by making two AI players to compete\n",
    "\n",
    "        Parameters\n",
    "        ----------\n",
    "        N : no. of simulations\n",
    "               \n",
    "        Returns\n",
    "        -------\n",
    "        player_2_prob : dict\n",
    "                    storing the trained output of the player 2\n",
    "             \n",
    "        Examples\n",
    "        --------\n",
    "        >>> game1 = stickbot(100)\n",
    "        >>> game1.fit(100000)\n",
    "        \n",
    "        \"\"\"\n",
    "        \n",
    "        self.player_1_stick = defaultdict(lambda: defaultdict(int))\n",
    "        self.player_1_prob = defaultdict(lambda: defaultdict(float))\n",
    "        \n",
    "        self.player_2_stick = defaultdict(lambda: defaultdict(int))\n",
    "        self.player_2_prob = defaultdict(lambda: defaultdict(float))\n",
    "        \n",
    "        \n",
    "        \n",
    "        for i in range(1,self.n_sticks+1):\n",
    "            for j in range(1,4):\n",
    "                self.player_1_stick[i][j] = 1\n",
    "                self.player_1_prob[i][j] = 1/3\n",
    "\n",
    "                self.player_2_stick[i][j] = 1\n",
    "                self.player_2_prob[i][j] = 1/3\n",
    "\n",
    "            \n",
    "\n",
    "        for sim in range(N):\n",
    "            #print(\"Start Game......\",sim)\n",
    "            stick_no_1 = {}\n",
    "            stick_no_2 = {}\n",
    "            sticks = self.n_sticks\n",
    "            \n",
    "            while True:\n",
    "                \n",
    "                if sticks > 0:\n",
    "                    keys = list(self.player_1_prob[sticks].keys())\n",
    "                    values = list(self.player_1_prob[sticks].values())\n",
    "                    rand_index_1 = np.random.choice(len(keys), 1, p=values)\n",
    "                    stick_no_1[sticks] = keys[rand_index_1[0]]\n",
    "\n",
    "                    sticks = sticks - stick_no_1[sticks]\n",
    "                    #print (sticks)\n",
    "                    \n",
    "                \n",
    "                else:\n",
    "                    winner = 1\n",
    "                    #print (\"Player 1 Wins\")\n",
    "                    break\n",
    "\n",
    "                if sticks > 0:\n",
    "                    keys = list(self.player_2_prob[sticks].keys())\n",
    "                    values = list(self.player_2_prob[sticks].values())\n",
    "                    rand_index_2 = np.random.choice(len(keys), 1, p=values)\n",
    "                    stick_no_2[sticks] = keys[rand_index_2[0]]\n",
    "\n",
    "                    sticks = sticks - stick_no_2[sticks]\n",
    "                    #print (sticks)\n",
    "                \n",
    "                else:\n",
    "                    winner = 2\n",
    "                    #print (\"Player 2 Wins\")\n",
    "                    break\n",
    "\n",
    "            \n",
    "            if winner == 1:\n",
    "                for k in stick_no_1.keys():\n",
    "                    self.player_1_stick[k][stick_no_1[k]] += 1\n",
    "                    for i in range(1,4):\n",
    "                         self.player_1_prob[k][i] = self.player_1_stick[k][i] / sum(self.player_1_stick[k].values())\n",
    "\n",
    "                for k in stick_no_2.keys():\n",
    "                    if sum(self.player_2_stick[k].values()) > 1:\n",
    "                        self.player_2_stick[k][stick_no_2[k]] -= 1\n",
    "\n",
    "                        for i in range(1,4):\n",
    "                            self.player_2_prob[k][i] = self.player_2_stick[k][i] / sum(self.player_2_stick[k].values())\n",
    "                            \n",
    "\n",
    "            else :\n",
    "                for k in stick_no_2.keys():\n",
    "                    self.player_2_stick[k][stick_no_2[k]] += 1\n",
    "                    for i in range(1,4):\n",
    "                        self.player_2_prob[k][i] = self.player_2_stick[k][i] / sum(self.player_2_stick[k].values())\n",
    "\n",
    "                for k in stick_no_1.keys():\n",
    "                    if sum(self.player_1_stick[k].values()) > 1:\n",
    "                        self.player_1_stick[k][stick_no_1[k]] -= 1\n",
    "\n",
    "                        for i in range(1,4):\n",
    "                            self.player_1_prob[k][i] = self.player_1_stick[k][i] / sum(self.player_1_stick[k].values())\n",
    "                            \n",
    "  \n",
    "                \n",
    "            \n",
    "            #print(\"End Game......\",sim)\n",
    "        \n",
    "        #return [self.player_2_prob,self.player_2_stick]\n",
    "    \n",
    "    def play_game(self):\n",
    "        \n",
    "        \"\"\"Play the game of sticks\n",
    "\n",
    "                          \n",
    "        Examples\n",
    "        --------\n",
    "        >>> game1.play_game()\n",
    "        \n",
    "        \"\"\"\n",
    "        \n",
    "        \n",
    "        val = input(\"Enter number of sticks between 10 and 100: \")\n",
    "        val = int(val)\n",
    "        \n",
    "        print(\"Start the game\")\n",
    "        \n",
    "        \n",
    "        \n",
    "        while True:\n",
    "            \n",
    "            if val == 1:\n",
    "                print (\"Computer Won\")\n",
    "                break\n",
    "            \n",
    "            p = input(\"Pick any number of sticks from 1,2,3 : \")\n",
    "            \n",
    "            val -=  int(p)\n",
    "            \n",
    "            if val == 1:\n",
    "                print (\"Player Won\")\n",
    "                break\n",
    "            \n",
    "            keys = list(self.player_2_prob[val].keys())\n",
    "            values = list(self.player_2_prob[val].values())\n",
    "            #rand_index_2 = np.random.choice(len(keys), 1, p=values)\n",
    "            #s = keys[rand_index_2[0]]\n",
    "            s = keys[np.argmax(values)]\n",
    "            val -= s\n",
    "            print (val)\n",
    "                       "
   ]
  },
  {
   "cell_type": "code",
   "execution_count": 67,
   "metadata": {},
   "outputs": [],
   "source": [
    "game1 = stickbot(100)"
   ]
  },
  {
   "cell_type": "code",
   "execution_count": 68,
   "metadata": {},
   "outputs": [],
   "source": [
    "game1.fit(1000000)"
   ]
  },
  {
   "cell_type": "code",
   "execution_count": 74,
   "metadata": {},
   "outputs": [
    {
     "name": "stdin",
     "output_type": "stream",
     "text": [
      "Enter number of sticks between 10 and 100:  20\n"
     ]
    },
    {
     "name": "stdout",
     "output_type": "stream",
     "text": [
      "Start the game\n"
     ]
    },
    {
     "name": "stdin",
     "output_type": "stream",
     "text": [
      "Pick any number of sticks from 1,2,3 :  2\n"
     ]
    },
    {
     "name": "stdout",
     "output_type": "stream",
     "text": [
      "15\n"
     ]
    },
    {
     "name": "stdin",
     "output_type": "stream",
     "text": [
      "Pick any number of sticks from 1,2,3 :  3\n"
     ]
    },
    {
     "name": "stdout",
     "output_type": "stream",
     "text": [
      "10\n"
     ]
    },
    {
     "name": "stdin",
     "output_type": "stream",
     "text": [
      "Pick any number of sticks from 1,2,3 :  2\n"
     ]
    },
    {
     "name": "stdout",
     "output_type": "stream",
     "text": [
      "5\n"
     ]
    },
    {
     "name": "stdin",
     "output_type": "stream",
     "text": [
      "Pick any number of sticks from 1,2,3 :  1\n"
     ]
    },
    {
     "name": "stdout",
     "output_type": "stream",
     "text": [
      "1\n",
      "Computer Won\n"
     ]
    }
   ],
   "source": [
    "game1.play_game()"
   ]
  },
  {
   "cell_type": "code",
   "execution_count": null,
   "metadata": {},
   "outputs": [],
   "source": []
  }
 ],
 "metadata": {
  "kernelspec": {
   "display_name": "Python 3",
   "language": "python",
   "name": "python3"
  },
  "language_info": {
   "codemirror_mode": {
    "name": "ipython",
    "version": 3
   },
   "file_extension": ".py",
   "mimetype": "text/x-python",
   "name": "python",
   "nbconvert_exporter": "python",
   "pygments_lexer": "ipython3",
   "version": "3.7.3"
  }
 },
 "nbformat": 4,
 "nbformat_minor": 4
}
